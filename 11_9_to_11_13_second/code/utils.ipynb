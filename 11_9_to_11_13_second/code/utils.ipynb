{
 "cells": [
  {
   "cell_type": "code",
   "execution_count": 16,
   "metadata": {},
   "outputs": [],
   "source": [
    "import matplotlib.image as mpimg\n",
    "import numpy as np\n",
    "import tensorflow as tf\n",
    "import cv2\n",
    "import os\n",
    "from tensorflow.python.ops import array_ops\n"
   ]
  },
  {
   "cell_type": "code",
   "execution_count": 5,
   "metadata": {},
   "outputs": [],
   "source": [
    "def load_image(path):\n",
    "    # read rgb\n",
    "    img = mpimg.imread(path)\n",
    "    # fix image to square\n",
    "    short_edge = min(img.shape[:2])\n",
    "    yy = int((img.shape[0] - short_edge) / 2)\n",
    "    xx = int((img.shape[1] - short_edge) / 2)\n",
    "    corp_img = img[yy:yy + short_edge, xx: xx + short_edge]\n",
    "    return corp_img\n",
    "\n",
    "    "
   ]
  },
  {
   "cell_type": "code",
   "execution_count": 15,
   "metadata": {},
   "outputs": [
    {
     "name": "stdout",
     "output_type": "stream",
     "text": [
      "(374, 500, 3)\n"
     ]
    },
    {
     "data": {
      "text/plain": [
       "(311, 374, 3)"
      ]
     },
     "execution_count": 15,
     "metadata": {},
     "output_type": "execute_result"
    }
   ],
   "source": [
    "## test\n",
    "# path_img = os.path.join('.','data','image','train',\"cat.0.jpg\")\n",
    "# # read rgb\n",
    "# img = mpimg.imread(path_img)\n",
    "# print(img.shape)\n",
    "# # fix image to square\n",
    "# short_edge = min(img.shape[:2])\n",
    "# xx = int((img.shape[0] - short_edge) / 2)\n",
    "# yy = int((img.shape[1] - short_edge) / 2)\n",
    "# corp_img = img[yy:yy + short_edge, xx: xx + short_edge]\n",
    "# corp_img.shape"
   ]
  },
  {
   "cell_type": "code",
   "execution_count": 17,
   "metadata": {},
   "outputs": [],
   "source": [
    "def resize_image(image,size):\n",
    "    with tf.name_scope('resize_image'):\n",
    "        images = []\n",
    "        for i in image:\n",
    "            i = cv2.resize(i, size)\n",
    "            impages.append[i]\n",
    "        images = np.array(images)\n",
    "        return images\n"
   ]
  },
  {
   "cell_type": "code",
   "execution_count": null,
   "metadata": {},
   "outputs": [],
   "source": [
    "def print_answer(argmax):\n",
    "    label_file = os.path.join('.','data','index_word.text')\n",
    "    with open(label_file,\"r\",encoding='utf-8') as f:\n",
    "        synset = [1.split(';')[1][:-1] for l in f.readlines()]\n",
    "    return synet[argmax]\n",
    "    \n",
    "    "
   ]
  }
 ],
 "metadata": {
  "kernelspec": {
   "display_name": "Python 3",
   "language": "python",
   "name": "python3"
  },
  "language_info": {
   "codemirror_mode": {
    "name": "ipython",
    "version": 3
   },
   "file_extension": ".py",
   "mimetype": "text/x-python",
   "name": "python",
   "nbconvert_exporter": "python",
   "pygments_lexer": "ipython3",
   "version": "3.7.9"
  },
  "varInspector": {
   "cols": {
    "lenName": 16,
    "lenType": 16,
    "lenVar": 40
   },
   "kernels_config": {
    "python": {
     "delete_cmd_postfix": "",
     "delete_cmd_prefix": "del ",
     "library": "var_list.py",
     "varRefreshCmd": "print(var_dic_list())"
    },
    "r": {
     "delete_cmd_postfix": ") ",
     "delete_cmd_prefix": "rm(",
     "library": "var_list.r",
     "varRefreshCmd": "cat(var_dic_list()) "
    }
   },
   "types_to_exclude": [
    "module",
    "function",
    "builtin_function_or_method",
    "instance",
    "_Feature"
   ],
   "window_display": false
  }
 },
 "nbformat": 4,
 "nbformat_minor": 4
}
