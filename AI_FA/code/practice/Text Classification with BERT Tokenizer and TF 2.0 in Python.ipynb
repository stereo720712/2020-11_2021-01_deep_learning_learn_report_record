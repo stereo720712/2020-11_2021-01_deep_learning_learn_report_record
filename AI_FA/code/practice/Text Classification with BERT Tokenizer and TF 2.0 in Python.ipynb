{
 "cells": [
  {
   "cell_type": "markdown",
   "metadata": {},
   "source": [
    "#  Text Classification with BERT Tokenizer and TF 2.0 in Python\n",
    "### ref  https://stackabuse.com/text-classification-with-bert-tokenizer-and-tf-2-0-in-python/\n",
    "\n"
   ]
  },
  {
   "cell_type": "code",
   "execution_count": 1,
   "metadata": {},
   "outputs": [],
   "source": [
    "try:\n",
    "    %tensorflow_version 2.x\n",
    "except Exception:\n",
    "    pass\n",
    "import tensorflow as tf\n",
    "\n",
    "import tensorflow_hub as hub\n",
    "\n",
    "from tensorflow.keras import layers\n",
    "import bert\n",
    "tf.__version__\n",
    "\n",
    "import pandas as pd\n",
    "import re\n",
    "import numpy as np\n",
    "import random\n",
    "import math"
   ]
  },
  {
   "cell_type": "code",
   "execution_count": 2,
   "metadata": {},
   "outputs": [
    {
     "data": {
      "text/plain": [
       "(50000, 2)"
      ]
     },
     "execution_count": 2,
     "metadata": {},
     "output_type": "execute_result"
    }
   ],
   "source": [
    "movie_reviews = pd.read_csv(\"./IMDB Dataset.csv\")\n",
    "\n",
    "movie_reviews.isnull().values.any()\n",
    "\n",
    "movie_reviews.shape"
   ]
  },
  {
   "cell_type": "code",
   "execution_count": 3,
   "metadata": {},
   "outputs": [],
   "source": [
    "\n",
    "def preprocess_text(sen):\n",
    "    # Removing html tags\n",
    "    sentence = remove_tags(sen)\n",
    "\n",
    "    # Remove punctuations and numbers\n",
    "    sentence = re.sub('[^a-zA-Z]', ' ', sentence)\n",
    "\n",
    "    # Single character removal\n",
    "    sentence = re.sub(r\"\\s+[a-zA-Z]\\s+\", ' ', sentence)\n",
    "\n",
    "    # Removing multiple spaces\n",
    "    sentence = re.sub(r'\\s+', ' ', sentence)\n",
    "\n",
    "    return sentence"
   ]
  },
  {
   "cell_type": "code",
   "execution_count": 4,
   "metadata": {},
   "outputs": [],
   "source": [
    "TAG_RE = re.compile(r'<[^>]+>')\n",
    "\n",
    "def remove_tags(text):\n",
    "    return TAG_RE.sub('', text)"
   ]
  },
  {
   "cell_type": "code",
   "execution_count": 5,
   "metadata": {},
   "outputs": [],
   "source": [
    "reviews = []\n",
    "sentences = list(movie_reviews['review'])\n",
    "for sen in sentences:\n",
    "    reviews.append(preprocess_text(sen))"
   ]
  },
  {
   "cell_type": "code",
   "execution_count": 6,
   "metadata": {},
   "outputs": [
    {
     "name": "stdout",
     "output_type": "stream",
     "text": [
      "['review' 'sentiment']\n"
     ]
    }
   ],
   "source": [
    "print(movie_reviews.columns.values)"
   ]
  },
  {
   "cell_type": "code",
   "execution_count": 7,
   "metadata": {},
   "outputs": [
    {
     "data": {
      "text/plain": [
       "array(['positive', 'negative'], dtype=object)"
      ]
     },
     "execution_count": 7,
     "metadata": {},
     "output_type": "execute_result"
    }
   ],
   "source": [
    "movie_reviews.sentiment.unique()"
   ]
  },
  {
   "cell_type": "code",
   "execution_count": 8,
   "metadata": {},
   "outputs": [],
   "source": [
    "y = movie_reviews['sentiment']\n",
    "\n",
    "y = np.array(list(map(lambda x: 1 if x==\"positive\" else 0, y)))"
   ]
  },
  {
   "cell_type": "code",
   "execution_count": 9,
   "metadata": {},
   "outputs": [
    {
     "name": "stdout",
     "output_type": "stream",
     "text": [
      "Phil the Alien is one of those quirky films where the humour is based around the oddness of everything rather than actual punchlines At first it was very odd and pretty funny but as the movie progressed didn find the jokes or oddness funny anymore Its low budget film thats never problem in itself there were some pretty interesting characters but eventually just lost interest imagine this film would appeal to stoner who is currently partaking For something similar but better try Brother from another planet \n"
     ]
    }
   ],
   "source": [
    "print(reviews[10])"
   ]
  },
  {
   "cell_type": "code",
   "execution_count": 10,
   "metadata": {},
   "outputs": [
    {
     "name": "stdout",
     "output_type": "stream",
     "text": [
      "0\n"
     ]
    }
   ],
   "source": [
    "print(y[10])"
   ]
  },
  {
   "cell_type": "code",
   "execution_count": 11,
   "metadata": {
    "scrolled": false
   },
   "outputs": [
    {
     "name": "stderr",
     "output_type": "stream",
     "text": [
      "WARNING:absl:Could not find any concrete functions to restore for this SavedFunction object while loading. The function will not be callable.\n",
      "WARNING:absl:Could not find any concrete functions to restore for this SavedFunction object while loading. The function will not be callable.\n",
      "WARNING:absl:Could not find any concrete functions to restore for this SavedFunction object while loading. The function will not be callable.\n",
      "WARNING:absl:Could not find any concrete functions to restore for this SavedFunction object while loading. The function will not be callable.\n",
      "WARNING:absl:Could not find any concrete functions to restore for this SavedFunction object while loading. The function will not be callable.\n",
      "WARNING:absl:Could not find any concrete functions to restore for this SavedFunction object while loading. The function will not be callable.\n",
      "WARNING:absl:Could not find any concrete functions to restore for this SavedFunction object while loading. The function will not be callable.\n",
      "WARNING:absl:Could not find any concrete functions to restore for this SavedFunction object while loading. The function will not be callable.\n",
      "WARNING:absl:Could not find any concrete functions to restore for this SavedFunction object while loading. The function will not be callable.\n",
      "WARNING:absl:Could not find any concrete functions to restore for this SavedFunction object while loading. The function will not be callable.\n",
      "WARNING:absl:Could not find any concrete functions to restore for this SavedFunction object while loading. The function will not be callable.\n",
      "WARNING:absl:Could not find any concrete functions to restore for this SavedFunction object while loading. The function will not be callable.\n",
      "WARNING:absl:Could not find any concrete functions to restore for this SavedFunction object while loading. The function will not be callable.\n",
      "WARNING:absl:Could not find any concrete functions to restore for this SavedFunction object while loading. The function will not be callable.\n",
      "WARNING:absl:Could not find any concrete functions to restore for this SavedFunction object while loading. The function will not be callable.\n",
      "WARNING:absl:Could not find any concrete functions to restore for this SavedFunction object while loading. The function will not be callable.\n",
      "WARNING:absl:Could not find any concrete functions to restore for this SavedFunction object while loading. The function will not be callable.\n",
      "WARNING:absl:Could not find any concrete functions to restore for this SavedFunction object while loading. The function will not be callable.\n",
      "WARNING:absl:Could not find any concrete functions to restore for this SavedFunction object while loading. The function will not be callable.\n",
      "WARNING:absl:Could not find any concrete functions to restore for this SavedFunction object while loading. The function will not be callable.\n",
      "WARNING:absl:Could not find any concrete functions to restore for this SavedFunction object while loading. The function will not be callable.\n",
      "WARNING:absl:Could not find any concrete functions to restore for this SavedFunction object while loading. The function will not be callable.\n",
      "WARNING:absl:Could not find any concrete functions to restore for this SavedFunction object while loading. The function will not be callable.\n",
      "WARNING:absl:Could not find any concrete functions to restore for this SavedFunction object while loading. The function will not be callable.\n",
      "WARNING:absl:Could not find any concrete functions to restore for this SavedFunction object while loading. The function will not be callable.\n",
      "WARNING:absl:Could not find any concrete functions to restore for this SavedFunction object while loading. The function will not be callable.\n",
      "WARNING:absl:Could not find any concrete functions to restore for this SavedFunction object while loading. The function will not be callable.\n",
      "WARNING:absl:Could not find any concrete functions to restore for this SavedFunction object while loading. The function will not be callable.\n",
      "WARNING:absl:Could not find any concrete functions to restore for this SavedFunction object while loading. The function will not be callable.\n",
      "WARNING:absl:Could not find any concrete functions to restore for this SavedFunction object while loading. The function will not be callable.\n",
      "WARNING:absl:Could not find any concrete functions to restore for this SavedFunction object while loading. The function will not be callable.\n",
      "WARNING:absl:Could not find any concrete functions to restore for this SavedFunction object while loading. The function will not be callable.\n",
      "WARNING:absl:Could not find any concrete functions to restore for this SavedFunction object while loading. The function will not be callable.\n",
      "WARNING:absl:Could not find any concrete functions to restore for this SavedFunction object while loading. The function will not be callable.\n",
      "WARNING:absl:Could not find any concrete functions to restore for this SavedFunction object while loading. The function will not be callable.\n",
      "WARNING:absl:Could not find any concrete functions to restore for this SavedFunction object while loading. The function will not be callable.\n",
      "WARNING:absl:Could not find any concrete functions to restore for this SavedFunction object while loading. The function will not be callable.\n",
      "WARNING:absl:Could not find any concrete functions to restore for this SavedFunction object while loading. The function will not be callable.\n",
      "WARNING:absl:Could not find any concrete functions to restore for this SavedFunction object while loading. The function will not be callable.\n",
      "WARNING:absl:Could not find any concrete functions to restore for this SavedFunction object while loading. The function will not be callable.\n",
      "WARNING:absl:Could not find any concrete functions to restore for this SavedFunction object while loading. The function will not be callable.\n",
      "WARNING:absl:Could not find any concrete functions to restore for this SavedFunction object while loading. The function will not be callable.\n",
      "WARNING:absl:Could not find any concrete functions to restore for this SavedFunction object while loading. The function will not be callable.\n",
      "WARNING:absl:Could not find any concrete functions to restore for this SavedFunction object while loading. The function will not be callable.\n",
      "WARNING:absl:Could not find any concrete functions to restore for this SavedFunction object while loading. The function will not be callable.\n",
      "WARNING:absl:Could not find any concrete functions to restore for this SavedFunction object while loading. The function will not be callable.\n",
      "WARNING:absl:Could not find any concrete functions to restore for this SavedFunction object while loading. The function will not be callable.\n",
      "WARNING:absl:Could not find any concrete functions to restore for this SavedFunction object while loading. The function will not be callable.\n",
      "WARNING:absl:Could not find any concrete functions to restore for this SavedFunction object while loading. The function will not be callable.\n",
      "WARNING:absl:Could not find any concrete functions to restore for this SavedFunction object while loading. The function will not be callable.\n",
      "WARNING:absl:Could not find any concrete functions to restore for this SavedFunction object while loading. The function will not be callable.\n",
      "WARNING:absl:Could not find any concrete functions to restore for this SavedFunction object while loading. The function will not be callable.\n",
      "WARNING:absl:Could not find any concrete functions to restore for this SavedFunction object while loading. The function will not be callable.\n",
      "WARNING:absl:Could not find any concrete functions to restore for this SavedFunction object while loading. The function will not be callable.\n",
      "WARNING:absl:Could not find any concrete functions to restore for this SavedFunction object while loading. The function will not be callable.\n",
      "WARNING:absl:Could not find any concrete functions to restore for this SavedFunction object while loading. The function will not be callable.\n",
      "WARNING:absl:Could not find any concrete functions to restore for this SavedFunction object while loading. The function will not be callable.\n",
      "WARNING:absl:Could not find any concrete functions to restore for this SavedFunction object while loading. The function will not be callable.\n"
     ]
    },
    {
     "name": "stderr",
     "output_type": "stream",
     "text": [
      "WARNING:absl:Could not find any concrete functions to restore for this SavedFunction object while loading. The function will not be callable.\n",
      "WARNING:absl:Could not find any concrete functions to restore for this SavedFunction object while loading. The function will not be callable.\n",
      "WARNING:absl:Could not find any concrete functions to restore for this SavedFunction object while loading. The function will not be callable.\n",
      "WARNING:absl:Could not find any concrete functions to restore for this SavedFunction object while loading. The function will not be callable.\n",
      "WARNING:absl:Could not find any concrete functions to restore for this SavedFunction object while loading. The function will not be callable.\n",
      "WARNING:absl:Could not find any concrete functions to restore for this SavedFunction object while loading. The function will not be callable.\n",
      "WARNING:absl:Could not find any concrete functions to restore for this SavedFunction object while loading. The function will not be callable.\n",
      "WARNING:absl:Could not find any concrete functions to restore for this SavedFunction object while loading. The function will not be callable.\n",
      "WARNING:absl:Could not find any concrete functions to restore for this SavedFunction object while loading. The function will not be callable.\n",
      "WARNING:absl:Could not find any concrete functions to restore for this SavedFunction object while loading. The function will not be callable.\n",
      "WARNING:absl:Could not find any concrete functions to restore for this SavedFunction object while loading. The function will not be callable.\n",
      "WARNING:absl:Could not find any concrete functions to restore for this SavedFunction object while loading. The function will not be callable.\n",
      "WARNING:absl:Could not find any concrete functions to restore for this SavedFunction object while loading. The function will not be callable.\n",
      "WARNING:absl:Could not find any concrete functions to restore for this SavedFunction object while loading. The function will not be callable.\n",
      "WARNING:absl:Could not find any concrete functions to restore for this SavedFunction object while loading. The function will not be callable.\n",
      "WARNING:absl:Could not find any concrete functions to restore for this SavedFunction object while loading. The function will not be callable.\n",
      "WARNING:absl:Could not find any concrete functions to restore for this SavedFunction object while loading. The function will not be callable.\n",
      "WARNING:absl:Could not find any concrete functions to restore for this SavedFunction object while loading. The function will not be callable.\n",
      "WARNING:absl:Could not find any concrete functions to restore for this SavedFunction object while loading. The function will not be callable.\n",
      "WARNING:absl:Could not find any concrete functions to restore for this SavedFunction object while loading. The function will not be callable.\n",
      "WARNING:absl:Could not find any concrete functions to restore for this SavedFunction object while loading. The function will not be callable.\n",
      "WARNING:absl:Could not find any concrete functions to restore for this SavedFunction object while loading. The function will not be callable.\n",
      "WARNING:absl:Could not find any concrete functions to restore for this SavedFunction object while loading. The function will not be callable.\n",
      "WARNING:absl:Could not find any concrete functions to restore for this SavedFunction object while loading. The function will not be callable.\n",
      "WARNING:absl:Could not find any concrete functions to restore for this SavedFunction object while loading. The function will not be callable.\n",
      "WARNING:absl:Could not find any concrete functions to restore for this SavedFunction object while loading. The function will not be callable.\n",
      "WARNING:absl:Could not find any concrete functions to restore for this SavedFunction object while loading. The function will not be callable.\n",
      "WARNING:absl:Could not find any concrete functions to restore for this SavedFunction object while loading. The function will not be callable.\n",
      "WARNING:absl:Could not find any concrete functions to restore for this SavedFunction object while loading. The function will not be callable.\n",
      "WARNING:absl:Could not find any concrete functions to restore for this SavedFunction object while loading. The function will not be callable.\n",
      "WARNING:absl:Could not find any concrete functions to restore for this SavedFunction object while loading. The function will not be callable.\n",
      "WARNING:absl:Could not find any concrete functions to restore for this SavedFunction object while loading. The function will not be callable.\n",
      "WARNING:absl:Could not find any concrete functions to restore for this SavedFunction object while loading. The function will not be callable.\n",
      "WARNING:absl:Could not find any concrete functions to restore for this SavedFunction object while loading. The function will not be callable.\n",
      "WARNING:absl:Could not find any concrete functions to restore for this SavedFunction object while loading. The function will not be callable.\n",
      "WARNING:absl:Could not find any concrete functions to restore for this SavedFunction object while loading. The function will not be callable.\n",
      "WARNING:absl:Could not find any concrete functions to restore for this SavedFunction object while loading. The function will not be callable.\n",
      "WARNING:absl:Could not find any concrete functions to restore for this SavedFunction object while loading. The function will not be callable.\n",
      "WARNING:absl:Could not find any concrete functions to restore for this SavedFunction object while loading. The function will not be callable.\n",
      "WARNING:absl:Could not find any concrete functions to restore for this SavedFunction object while loading. The function will not be callable.\n",
      "WARNING:absl:Could not find any concrete functions to restore for this SavedFunction object while loading. The function will not be callable.\n",
      "WARNING:absl:Could not find any concrete functions to restore for this SavedFunction object while loading. The function will not be callable.\n",
      "WARNING:absl:Could not find any concrete functions to restore for this SavedFunction object while loading. The function will not be callable.\n",
      "WARNING:absl:Could not find any concrete functions to restore for this SavedFunction object while loading. The function will not be callable.\n",
      "WARNING:absl:Could not find any concrete functions to restore for this SavedFunction object while loading. The function will not be callable.\n",
      "WARNING:absl:Could not find any concrete functions to restore for this SavedFunction object while loading. The function will not be callable.\n",
      "WARNING:absl:Could not find any concrete functions to restore for this SavedFunction object while loading. The function will not be callable.\n",
      "WARNING:absl:Could not find any concrete functions to restore for this SavedFunction object while loading. The function will not be callable.\n",
      "WARNING:absl:Could not find any concrete functions to restore for this SavedFunction object while loading. The function will not be callable.\n",
      "WARNING:absl:Could not find any concrete functions to restore for this SavedFunction object while loading. The function will not be callable.\n",
      "WARNING:absl:Could not find any concrete functions to restore for this SavedFunction object while loading. The function will not be callable.\n",
      "WARNING:absl:Could not find any concrete functions to restore for this SavedFunction object while loading. The function will not be callable.\n",
      "WARNING:absl:Could not find any concrete functions to restore for this SavedFunction object while loading. The function will not be callable.\n",
      "WARNING:absl:Could not find any concrete functions to restore for this SavedFunction object while loading. The function will not be callable.\n",
      "WARNING:absl:Could not find any concrete functions to restore for this SavedFunction object while loading. The function will not be callable.\n",
      "WARNING:absl:Could not find any concrete functions to restore for this SavedFunction object while loading. The function will not be callable.\n",
      "WARNING:absl:Could not find any concrete functions to restore for this SavedFunction object while loading. The function will not be callable.\n",
      "WARNING:absl:Could not find any concrete functions to restore for this SavedFunction object while loading. The function will not be callable.\n"
     ]
    },
    {
     "name": "stderr",
     "output_type": "stream",
     "text": [
      "WARNING:absl:Could not find any concrete functions to restore for this SavedFunction object while loading. The function will not be callable.\n",
      "WARNING:absl:Could not find any concrete functions to restore for this SavedFunction object while loading. The function will not be callable.\n",
      "WARNING:absl:Could not find any concrete functions to restore for this SavedFunction object while loading. The function will not be callable.\n",
      "WARNING:absl:Could not find any concrete functions to restore for this SavedFunction object while loading. The function will not be callable.\n",
      "WARNING:absl:Could not find any concrete functions to restore for this SavedFunction object while loading. The function will not be callable.\n",
      "WARNING:absl:Could not find any concrete functions to restore for this SavedFunction object while loading. The function will not be callable.\n",
      "WARNING:absl:Could not find any concrete functions to restore for this SavedFunction object while loading. The function will not be callable.\n",
      "WARNING:absl:Could not find any concrete functions to restore for this SavedFunction object while loading. The function will not be callable.\n",
      "WARNING:absl:Could not find any concrete functions to restore for this SavedFunction object while loading. The function will not be callable.\n",
      "WARNING:absl:Could not find any concrete functions to restore for this SavedFunction object while loading. The function will not be callable.\n",
      "WARNING:absl:Could not find any concrete functions to restore for this SavedFunction object while loading. The function will not be callable.\n",
      "WARNING:absl:Could not find any concrete functions to restore for this SavedFunction object while loading. The function will not be callable.\n",
      "WARNING:absl:Could not find any concrete functions to restore for this SavedFunction object while loading. The function will not be callable.\n",
      "WARNING:absl:Could not find any concrete functions to restore for this SavedFunction object while loading. The function will not be callable.\n",
      "WARNING:absl:Could not find any concrete functions to restore for this SavedFunction object while loading. The function will not be callable.\n",
      "WARNING:absl:Could not find any concrete functions to restore for this SavedFunction object while loading. The function will not be callable.\n",
      "WARNING:absl:Could not find any concrete functions to restore for this SavedFunction object while loading. The function will not be callable.\n",
      "WARNING:absl:Could not find any concrete functions to restore for this SavedFunction object while loading. The function will not be callable.\n",
      "WARNING:absl:Could not find any concrete functions to restore for this SavedFunction object while loading. The function will not be callable.\n",
      "WARNING:absl:Could not find any concrete functions to restore for this SavedFunction object while loading. The function will not be callable.\n",
      "WARNING:absl:Could not find any concrete functions to restore for this SavedFunction object while loading. The function will not be callable.\n",
      "WARNING:absl:Could not find any concrete functions to restore for this SavedFunction object while loading. The function will not be callable.\n",
      "WARNING:absl:Could not find any concrete functions to restore for this SavedFunction object while loading. The function will not be callable.\n",
      "WARNING:absl:Could not find any concrete functions to restore for this SavedFunction object while loading. The function will not be callable.\n",
      "WARNING:absl:Could not find any concrete functions to restore for this SavedFunction object while loading. The function will not be callable.\n",
      "WARNING:absl:Could not find any concrete functions to restore for this SavedFunction object while loading. The function will not be callable.\n",
      "WARNING:absl:Could not find any concrete functions to restore for this SavedFunction object while loading. The function will not be callable.\n",
      "WARNING:absl:Could not find any concrete functions to restore for this SavedFunction object while loading. The function will not be callable.\n",
      "WARNING:absl:Could not find any concrete functions to restore for this SavedFunction object while loading. The function will not be callable.\n",
      "WARNING:absl:Could not find any concrete functions to restore for this SavedFunction object while loading. The function will not be callable.\n",
      "WARNING:absl:Could not find any concrete functions to restore for this SavedFunction object while loading. The function will not be callable.\n",
      "WARNING:absl:Could not find any concrete functions to restore for this SavedFunction object while loading. The function will not be callable.\n",
      "WARNING:absl:Could not find any concrete functions to restore for this SavedFunction object while loading. The function will not be callable.\n",
      "WARNING:absl:Could not find any concrete functions to restore for this SavedFunction object while loading. The function will not be callable.\n",
      "WARNING:absl:Could not find any concrete functions to restore for this SavedFunction object while loading. The function will not be callable.\n",
      "WARNING:absl:Could not find any concrete functions to restore for this SavedFunction object while loading. The function will not be callable.\n",
      "WARNING:absl:Could not find any concrete functions to restore for this SavedFunction object while loading. The function will not be callable.\n",
      "WARNING:absl:Could not find any concrete functions to restore for this SavedFunction object while loading. The function will not be callable.\n",
      "WARNING:absl:Could not find any concrete functions to restore for this SavedFunction object while loading. The function will not be callable.\n",
      "WARNING:absl:Could not find any concrete functions to restore for this SavedFunction object while loading. The function will not be callable.\n",
      "WARNING:absl:Could not find any concrete functions to restore for this SavedFunction object while loading. The function will not be callable.\n",
      "WARNING:absl:Could not find any concrete functions to restore for this SavedFunction object while loading. The function will not be callable.\n",
      "WARNING:absl:Could not find any concrete functions to restore for this SavedFunction object while loading. The function will not be callable.\n",
      "WARNING:absl:Could not find any concrete functions to restore for this SavedFunction object while loading. The function will not be callable.\n",
      "WARNING:absl:Could not find any concrete functions to restore for this SavedFunction object while loading. The function will not be callable.\n",
      "WARNING:absl:Could not find any concrete functions to restore for this SavedFunction object while loading. The function will not be callable.\n",
      "WARNING:absl:Could not find any concrete functions to restore for this SavedFunction object while loading. The function will not be callable.\n",
      "WARNING:absl:Could not find any concrete functions to restore for this SavedFunction object while loading. The function will not be callable.\n",
      "WARNING:absl:Could not find any concrete functions to restore for this SavedFunction object while loading. The function will not be callable.\n",
      "WARNING:absl:Could not find any concrete functions to restore for this SavedFunction object while loading. The function will not be callable.\n",
      "WARNING:absl:Could not find any concrete functions to restore for this SavedFunction object while loading. The function will not be callable.\n",
      "WARNING:absl:Could not find any concrete functions to restore for this SavedFunction object while loading. The function will not be callable.\n",
      "WARNING:absl:Could not find any concrete functions to restore for this SavedFunction object while loading. The function will not be callable.\n",
      "WARNING:absl:Could not find any concrete functions to restore for this SavedFunction object while loading. The function will not be callable.\n",
      "WARNING:absl:Could not find any concrete functions to restore for this SavedFunction object while loading. The function will not be callable.\n",
      "WARNING:absl:Could not find any concrete functions to restore for this SavedFunction object while loading. The function will not be callable.\n",
      "WARNING:absl:Could not find any concrete functions to restore for this SavedFunction object while loading. The function will not be callable.\n",
      "WARNING:absl:Could not find any concrete functions to restore for this SavedFunction object while loading. The function will not be callable.\n"
     ]
    },
    {
     "name": "stderr",
     "output_type": "stream",
     "text": [
      "WARNING:absl:Could not find any concrete functions to restore for this SavedFunction object while loading. The function will not be callable.\n",
      "WARNING:absl:Could not find any concrete functions to restore for this SavedFunction object while loading. The function will not be callable.\n",
      "WARNING:absl:Could not find any concrete functions to restore for this SavedFunction object while loading. The function will not be callable.\n",
      "WARNING:absl:Could not find any concrete functions to restore for this SavedFunction object while loading. The function will not be callable.\n",
      "WARNING:absl:Could not find any concrete functions to restore for this SavedFunction object while loading. The function will not be callable.\n",
      "WARNING:absl:Could not find any concrete functions to restore for this SavedFunction object while loading. The function will not be callable.\n",
      "WARNING:absl:Could not find any concrete functions to restore for this SavedFunction object while loading. The function will not be callable.\n",
      "WARNING:absl:Could not find any concrete functions to restore for this SavedFunction object while loading. The function will not be callable.\n",
      "WARNING:absl:Could not find any concrete functions to restore for this SavedFunction object while loading. The function will not be callable.\n",
      "WARNING:absl:Could not find any concrete functions to restore for this SavedFunction object while loading. The function will not be callable.\n",
      "WARNING:absl:Could not find any concrete functions to restore for this SavedFunction object while loading. The function will not be callable.\n",
      "WARNING:absl:Could not find any concrete functions to restore for this SavedFunction object while loading. The function will not be callable.\n",
      "WARNING:absl:Could not find any concrete functions to restore for this SavedFunction object while loading. The function will not be callable.\n",
      "WARNING:absl:Could not find any concrete functions to restore for this SavedFunction object while loading. The function will not be callable.\n",
      "WARNING:absl:Could not find any concrete functions to restore for this SavedFunction object while loading. The function will not be callable.\n",
      "WARNING:absl:Could not find any concrete functions to restore for this SavedFunction object while loading. The function will not be callable.\n",
      "WARNING:absl:Could not find any concrete functions to restore for this SavedFunction object while loading. The function will not be callable.\n",
      "WARNING:absl:Could not find any concrete functions to restore for this SavedFunction object while loading. The function will not be callable.\n",
      "WARNING:absl:Could not find any concrete functions to restore for this SavedFunction object while loading. The function will not be callable.\n",
      "WARNING:absl:Could not find any concrete functions to restore for this SavedFunction object while loading. The function will not be callable.\n",
      "WARNING:absl:Could not find any concrete functions to restore for this SavedFunction object while loading. The function will not be callable.\n",
      "WARNING:absl:Could not find any concrete functions to restore for this SavedFunction object while loading. The function will not be callable.\n",
      "WARNING:absl:Could not find any concrete functions to restore for this SavedFunction object while loading. The function will not be callable.\n",
      "WARNING:absl:Could not find any concrete functions to restore for this SavedFunction object while loading. The function will not be callable.\n",
      "WARNING:absl:Could not find any concrete functions to restore for this SavedFunction object while loading. The function will not be callable.\n",
      "WARNING:absl:Could not find any concrete functions to restore for this SavedFunction object while loading. The function will not be callable.\n",
      "WARNING:absl:Could not find any concrete functions to restore for this SavedFunction object while loading. The function will not be callable.\n",
      "WARNING:absl:Could not find any concrete functions to restore for this SavedFunction object while loading. The function will not be callable.\n",
      "WARNING:absl:Could not find any concrete functions to restore for this SavedFunction object while loading. The function will not be callable.\n",
      "WARNING:absl:Could not find any concrete functions to restore for this SavedFunction object while loading. The function will not be callable.\n",
      "WARNING:absl:Could not find any concrete functions to restore for this SavedFunction object while loading. The function will not be callable.\n",
      "WARNING:absl:Could not find any concrete functions to restore for this SavedFunction object while loading. The function will not be callable.\n",
      "WARNING:absl:Could not find any concrete functions to restore for this SavedFunction object while loading. The function will not be callable.\n",
      "WARNING:absl:Could not find any concrete functions to restore for this SavedFunction object while loading. The function will not be callable.\n",
      "WARNING:absl:Could not find any concrete functions to restore for this SavedFunction object while loading. The function will not be callable.\n",
      "WARNING:absl:Could not find any concrete functions to restore for this SavedFunction object while loading. The function will not be callable.\n",
      "WARNING:absl:Could not find any concrete functions to restore for this SavedFunction object while loading. The function will not be callable.\n",
      "WARNING:absl:Could not find any concrete functions to restore for this SavedFunction object while loading. The function will not be callable.\n",
      "WARNING:absl:Could not find any concrete functions to restore for this SavedFunction object while loading. The function will not be callable.\n",
      "WARNING:absl:Could not find any concrete functions to restore for this SavedFunction object while loading. The function will not be callable.\n",
      "WARNING:absl:Could not find any concrete functions to restore for this SavedFunction object while loading. The function will not be callable.\n",
      "WARNING:absl:Could not find any concrete functions to restore for this SavedFunction object while loading. The function will not be callable.\n",
      "WARNING:absl:Could not find any concrete functions to restore for this SavedFunction object while loading. The function will not be callable.\n",
      "WARNING:absl:Could not find any concrete functions to restore for this SavedFunction object while loading. The function will not be callable.\n",
      "WARNING:absl:Could not find any concrete functions to restore for this SavedFunction object while loading. The function will not be callable.\n",
      "WARNING:absl:Could not find any concrete functions to restore for this SavedFunction object while loading. The function will not be callable.\n",
      "WARNING:absl:Could not find any concrete functions to restore for this SavedFunction object while loading. The function will not be callable.\n",
      "WARNING:absl:Could not find any concrete functions to restore for this SavedFunction object while loading. The function will not be callable.\n",
      "WARNING:absl:Could not find any concrete functions to restore for this SavedFunction object while loading. The function will not be callable.\n",
      "WARNING:absl:Could not find any concrete functions to restore for this SavedFunction object while loading. The function will not be callable.\n",
      "WARNING:absl:Could not find any concrete functions to restore for this SavedFunction object while loading. The function will not be callable.\n",
      "WARNING:absl:Could not find any concrete functions to restore for this SavedFunction object while loading. The function will not be callable.\n",
      "WARNING:absl:Could not find any concrete functions to restore for this SavedFunction object while loading. The function will not be callable.\n",
      "WARNING:absl:Could not find any concrete functions to restore for this SavedFunction object while loading. The function will not be callable.\n",
      "WARNING:absl:Could not find any concrete functions to restore for this SavedFunction object while loading. The function will not be callable.\n",
      "WARNING:absl:Could not find any concrete functions to restore for this SavedFunction object while loading. The function will not be callable.\n",
      "WARNING:absl:Could not find any concrete functions to restore for this SavedFunction object while loading. The function will not be callable.\n",
      "WARNING:absl:Could not find any concrete functions to restore for this SavedFunction object while loading. The function will not be callable.\n"
     ]
    },
    {
     "name": "stderr",
     "output_type": "stream",
     "text": [
      "WARNING:absl:Could not find any concrete functions to restore for this SavedFunction object while loading. The function will not be callable.\n",
      "WARNING:absl:Could not find any concrete functions to restore for this SavedFunction object while loading. The function will not be callable.\n",
      "WARNING:absl:Could not find any concrete functions to restore for this SavedFunction object while loading. The function will not be callable.\n",
      "WARNING:absl:Could not find any concrete functions to restore for this SavedFunction object while loading. The function will not be callable.\n",
      "WARNING:absl:Could not find any concrete functions to restore for this SavedFunction object while loading. The function will not be callable.\n",
      "WARNING:absl:Could not find any concrete functions to restore for this SavedFunction object while loading. The function will not be callable.\n",
      "WARNING:absl:Could not find any concrete functions to restore for this SavedFunction object while loading. The function will not be callable.\n",
      "WARNING:absl:Could not find any concrete functions to restore for this SavedFunction object while loading. The function will not be callable.\n",
      "WARNING:absl:Could not find any concrete functions to restore for this SavedFunction object while loading. The function will not be callable.\n",
      "WARNING:absl:Could not find any concrete functions to restore for this SavedFunction object while loading. The function will not be callable.\n",
      "WARNING:absl:Could not find any concrete functions to restore for this SavedFunction object while loading. The function will not be callable.\n",
      "WARNING:absl:Could not find any concrete functions to restore for this SavedFunction object while loading. The function will not be callable.\n",
      "WARNING:absl:Could not find any concrete functions to restore for this SavedFunction object while loading. The function will not be callable.\n",
      "WARNING:absl:Could not find any concrete functions to restore for this SavedFunction object while loading. The function will not be callable.\n",
      "WARNING:absl:Could not find any concrete functions to restore for this SavedFunction object while loading. The function will not be callable.\n",
      "WARNING:absl:Could not find any concrete functions to restore for this SavedFunction object while loading. The function will not be callable.\n",
      "WARNING:absl:Could not find any concrete functions to restore for this SavedFunction object while loading. The function will not be callable.\n",
      "WARNING:absl:Could not find any concrete functions to restore for this SavedFunction object while loading. The function will not be callable.\n",
      "WARNING:absl:Could not find any concrete functions to restore for this SavedFunction object while loading. The function will not be callable.\n",
      "WARNING:absl:Could not find any concrete functions to restore for this SavedFunction object while loading. The function will not be callable.\n",
      "WARNING:absl:Could not find any concrete functions to restore for this SavedFunction object while loading. The function will not be callable.\n",
      "WARNING:absl:Could not find any concrete functions to restore for this SavedFunction object while loading. The function will not be callable.\n",
      "WARNING:absl:Could not find any concrete functions to restore for this SavedFunction object while loading. The function will not be callable.\n",
      "WARNING:absl:Could not find any concrete functions to restore for this SavedFunction object while loading. The function will not be callable.\n",
      "WARNING:absl:Could not find any concrete functions to restore for this SavedFunction object while loading. The function will not be callable.\n",
      "WARNING:absl:Could not find any concrete functions to restore for this SavedFunction object while loading. The function will not be callable.\n",
      "WARNING:absl:Could not find any concrete functions to restore for this SavedFunction object while loading. The function will not be callable.\n",
      "WARNING:absl:Could not find any concrete functions to restore for this SavedFunction object while loading. The function will not be callable.\n",
      "WARNING:absl:Could not find any concrete functions to restore for this SavedFunction object while loading. The function will not be callable.\n",
      "WARNING:absl:Could not find any concrete functions to restore for this SavedFunction object while loading. The function will not be callable.\n",
      "WARNING:absl:Could not find any concrete functions to restore for this SavedFunction object while loading. The function will not be callable.\n",
      "WARNING:absl:Could not find any concrete functions to restore for this SavedFunction object while loading. The function will not be callable.\n",
      "WARNING:absl:Could not find any concrete functions to restore for this SavedFunction object while loading. The function will not be callable.\n",
      "WARNING:absl:Could not find any concrete functions to restore for this SavedFunction object while loading. The function will not be callable.\n",
      "WARNING:absl:Could not find any concrete functions to restore for this SavedFunction object while loading. The function will not be callable.\n",
      "WARNING:absl:Could not find any concrete functions to restore for this SavedFunction object while loading. The function will not be callable.\n",
      "WARNING:absl:Could not find any concrete functions to restore for this SavedFunction object while loading. The function will not be callable.\n",
      "WARNING:absl:Could not find any concrete functions to restore for this SavedFunction object while loading. The function will not be callable.\n",
      "WARNING:absl:Could not find any concrete functions to restore for this SavedFunction object while loading. The function will not be callable.\n",
      "WARNING:absl:Could not find any concrete functions to restore for this SavedFunction object while loading. The function will not be callable.\n",
      "WARNING:absl:Could not find any concrete functions to restore for this SavedFunction object while loading. The function will not be callable.\n",
      "WARNING:absl:Could not find any concrete functions to restore for this SavedFunction object while loading. The function will not be callable.\n",
      "WARNING:absl:Could not find any concrete functions to restore for this SavedFunction object while loading. The function will not be callable.\n",
      "WARNING:absl:Could not find any concrete functions to restore for this SavedFunction object while loading. The function will not be callable.\n",
      "WARNING:absl:Could not find any concrete functions to restore for this SavedFunction object while loading. The function will not be callable.\n",
      "WARNING:absl:Could not find any concrete functions to restore for this SavedFunction object while loading. The function will not be callable.\n",
      "WARNING:absl:Could not find any concrete functions to restore for this SavedFunction object while loading. The function will not be callable.\n",
      "WARNING:absl:Could not find any concrete functions to restore for this SavedFunction object while loading. The function will not be callable.\n",
      "WARNING:absl:Could not find any concrete functions to restore for this SavedFunction object while loading. The function will not be callable.\n",
      "WARNING:absl:Could not find any concrete functions to restore for this SavedFunction object while loading. The function will not be callable.\n",
      "WARNING:absl:Could not find any concrete functions to restore for this SavedFunction object while loading. The function will not be callable.\n",
      "WARNING:absl:Could not find any concrete functions to restore for this SavedFunction object while loading. The function will not be callable.\n",
      "WARNING:absl:Could not find any concrete functions to restore for this SavedFunction object while loading. The function will not be callable.\n",
      "WARNING:absl:Could not find any concrete functions to restore for this SavedFunction object while loading. The function will not be callable.\n",
      "WARNING:absl:Could not find any concrete functions to restore for this SavedFunction object while loading. The function will not be callable.\n",
      "WARNING:absl:Could not find any concrete functions to restore for this SavedFunction object while loading. The function will not be callable.\n",
      "WARNING:absl:Could not find any concrete functions to restore for this SavedFunction object while loading. The function will not be callable.\n",
      "WARNING:absl:Could not find any concrete functions to restore for this SavedFunction object while loading. The function will not be callable.\n"
     ]
    },
    {
     "name": "stderr",
     "output_type": "stream",
     "text": [
      "WARNING:absl:Could not find any concrete functions to restore for this SavedFunction object while loading. The function will not be callable.\n",
      "WARNING:absl:Could not find any concrete functions to restore for this SavedFunction object while loading. The function will not be callable.\n",
      "WARNING:absl:Could not find any concrete functions to restore for this SavedFunction object while loading. The function will not be callable.\n",
      "WARNING:absl:Could not find any concrete functions to restore for this SavedFunction object while loading. The function will not be callable.\n",
      "WARNING:absl:Could not find any concrete functions to restore for this SavedFunction object while loading. The function will not be callable.\n",
      "WARNING:absl:Could not find any concrete functions to restore for this SavedFunction object while loading. The function will not be callable.\n",
      "WARNING:absl:Could not find any concrete functions to restore for this SavedFunction object while loading. The function will not be callable.\n",
      "WARNING:absl:Could not find any concrete functions to restore for this SavedFunction object while loading. The function will not be callable.\n",
      "WARNING:absl:Could not find any concrete functions to restore for this SavedFunction object while loading. The function will not be callable.\n",
      "WARNING:absl:Could not find any concrete functions to restore for this SavedFunction object while loading. The function will not be callable.\n",
      "WARNING:absl:Could not find any concrete functions to restore for this SavedFunction object while loading. The function will not be callable.\n",
      "WARNING:absl:Could not find any concrete functions to restore for this SavedFunction object while loading. The function will not be callable.\n",
      "WARNING:absl:Could not find any concrete functions to restore for this SavedFunction object while loading. The function will not be callable.\n",
      "WARNING:absl:Could not find any concrete functions to restore for this SavedFunction object while loading. The function will not be callable.\n",
      "WARNING:absl:Could not find any concrete functions to restore for this SavedFunction object while loading. The function will not be callable.\n",
      "WARNING:absl:Could not find any concrete functions to restore for this SavedFunction object while loading. The function will not be callable.\n",
      "WARNING:absl:Could not find any concrete functions to restore for this SavedFunction object while loading. The function will not be callable.\n",
      "WARNING:absl:Could not find any concrete functions to restore for this SavedFunction object while loading. The function will not be callable.\n",
      "WARNING:absl:Could not find any concrete functions to restore for this SavedFunction object while loading. The function will not be callable.\n",
      "WARNING:absl:Could not find any concrete functions to restore for this SavedFunction object while loading. The function will not be callable.\n",
      "WARNING:absl:Could not find any concrete functions to restore for this SavedFunction object while loading. The function will not be callable.\n",
      "WARNING:absl:Could not find any concrete functions to restore for this SavedFunction object while loading. The function will not be callable.\n",
      "WARNING:absl:Could not find any concrete functions to restore for this SavedFunction object while loading. The function will not be callable.\n",
      "WARNING:absl:Could not find any concrete functions to restore for this SavedFunction object while loading. The function will not be callable.\n",
      "WARNING:absl:Could not find any concrete functions to restore for this SavedFunction object while loading. The function will not be callable.\n",
      "WARNING:absl:Could not find any concrete functions to restore for this SavedFunction object while loading. The function will not be callable.\n",
      "WARNING:absl:Could not find any concrete functions to restore for this SavedFunction object while loading. The function will not be callable.\n",
      "WARNING:absl:Could not find any concrete functions to restore for this SavedFunction object while loading. The function will not be callable.\n",
      "WARNING:absl:Could not find any concrete functions to restore for this SavedFunction object while loading. The function will not be callable.\n",
      "WARNING:absl:Could not find any concrete functions to restore for this SavedFunction object while loading. The function will not be callable.\n",
      "WARNING:absl:Could not find any concrete functions to restore for this SavedFunction object while loading. The function will not be callable.\n",
      "WARNING:absl:Could not find any concrete functions to restore for this SavedFunction object while loading. The function will not be callable.\n",
      "WARNING:absl:Could not find any concrete functions to restore for this SavedFunction object while loading. The function will not be callable.\n",
      "WARNING:absl:Could not find any concrete functions to restore for this SavedFunction object while loading. The function will not be callable.\n",
      "WARNING:absl:Could not find any concrete functions to restore for this SavedFunction object while loading. The function will not be callable.\n",
      "WARNING:absl:Could not find any concrete functions to restore for this SavedFunction object while loading. The function will not be callable.\n"
     ]
    }
   ],
   "source": [
    "# Creating a BERT Tokenizer\n",
    "BertTokenizer = bert.bert_tokenization.FullTokenizer\n",
    "bert_layer = hub.KerasLayer(\"https://tfhub.dev/tensorflow/bert_en_uncased_L-12_H-768_A-12/1\",\n",
    "                            trainable=False)\n",
    "vocabulary_file = bert_layer.resolved_object.vocab_file.asset_path.numpy()\n",
    "to_lower_case = bert_layer.resolved_object.do_lower_case.numpy()\n",
    "tokenizer = BertTokenizer(vocabulary_file, to_lower_case)\n"
   ]
  },
  {
   "cell_type": "code",
   "execution_count": 12,
   "metadata": {},
   "outputs": [
    {
     "data": {
      "text/plain": [
       "['don', \"'\", 't', 'be', 'so', 'judgment', '##al']"
      ]
     },
     "execution_count": 12,
     "metadata": {},
     "output_type": "execute_result"
    }
   ],
   "source": [
    "tokenizer.tokenize(\"don't be so judgmental\")"
   ]
  },
  {
   "cell_type": "code",
   "execution_count": 13,
   "metadata": {},
   "outputs": [
    {
     "data": {
      "text/plain": [
       "[2123, 2102, 2022, 2061, 8689, 2389]"
      ]
     },
     "execution_count": 13,
     "metadata": {},
     "output_type": "execute_result"
    }
   ],
   "source": [
    "tokenizer.convert_tokens_to_ids(tokenizer.tokenize(\"dont be so judgmental\"))"
   ]
  },
  {
   "cell_type": "code",
   "execution_count": 14,
   "metadata": {},
   "outputs": [],
   "source": [
    "def tokenize_reviews(text_reviews):\n",
    "    return tokenizer.convert_tokens_to_ids(tokenizer.tokenize(text_reviews))\n"
   ]
  },
  {
   "cell_type": "code",
   "execution_count": 15,
   "metadata": {},
   "outputs": [],
   "source": [
    "tokenized_reviews = [tokenize_reviews(review) for review in reviews]"
   ]
  },
  {
   "cell_type": "markdown",
   "metadata": {},
   "source": [
    "# Prerparing Data For Training\n",
    "The reviews in our dataset have varying lengths. \n",
    "Some reviews are very small while others are very long. \n",
    "To train the model, the input sentences should be of equal length. \n",
    "To create sentences of equal length, one way is to pad the shorter sentences by 0s. However, this can result in a sparse matrix contain large number of 0s.\n",
    "The other way is to pad sentences within each batch. \n",
    "Since we will be training the model in batches, \n",
    "we can pad the sentences within the training batch locally depending upon the length of the longest sentence. To do so, we first need to find the length of each sentence."
   ]
  },
  {
   "cell_type": "code",
   "execution_count": 16,
   "metadata": {},
   "outputs": [
    {
     "data": {
      "text/plain": [
       "50000"
      ]
     },
     "execution_count": 16,
     "metadata": {},
     "output_type": "execute_result"
    }
   ],
   "source": [
    "reviews_with_len = [[review, y[i], len(review)]\n",
    "                 for i, review in enumerate(tokenized_reviews)]\n",
    "len(reviews_with_len)"
   ]
  },
  {
   "cell_type": "code",
   "execution_count": 17,
   "metadata": {
    "scrolled": true
   },
   "outputs": [],
   "source": [
    "random.shuffle(reviews_with_len)"
   ]
  },
  {
   "cell_type": "code",
   "execution_count": 18,
   "metadata": {},
   "outputs": [],
   "source": [
    "reviews_with_len.sort(key=lambda x: x[2]) # sort by length\n"
   ]
  },
  {
   "cell_type": "code",
   "execution_count": 19,
   "metadata": {},
   "outputs": [],
   "source": [
    "# sort by length finish , remove length attritude\n",
    "sorted_reviews_labels = [(review_lab[0], review_lab[1]) for review_lab in reviews_with_len]"
   ]
  },
  {
   "cell_type": "code",
   "execution_count": 20,
   "metadata": {},
   "outputs": [],
   "source": [
    "# convert data to dataset\n",
    "processed_dataset = tf.data.Dataset.from_generator(\n",
    "    lambda: sorted_reviews_labels, output_types=(tf.int32, tf.int32))"
   ]
  },
  {
   "cell_type": "code",
   "execution_count": 21,
   "metadata": {},
   "outputs": [],
   "source": [
    "BATCH_SIZE = 32\n",
    "batched_dataset = processed_dataset.padded_batch(BATCH_SIZE, padded_shapes=((None, ), ()))"
   ]
  },
  {
   "cell_type": "code",
   "execution_count": 30,
   "metadata": {},
   "outputs": [
    {
     "data": {
      "text/plain": [
       "<PaddedBatchDataset shapes: ((None, None), (None,)), types: (tf.int32, tf.int32)>"
      ]
     },
     "execution_count": 30,
     "metadata": {},
     "output_type": "execute_result"
    }
   ],
   "source": [
    "next(iter(batched_dataset))\n",
    "batched_dataset"
   ]
  },
  {
   "cell_type": "code",
   "execution_count": 23,
   "metadata": {
    "scrolled": true
   },
   "outputs": [],
   "source": [
    "TOTAL_BATCHES = math.ceil(len(sorted_reviews_labels) / BATCH_SIZE)\n",
    "TEST_BATCHES = TOTAL_BATCHES // 10\n",
    "batched_dataset.shuffle(TOTAL_BATCHES)\n",
    "test_data = batched_dataset.take(TEST_BATCHES)\n",
    "train_data = batched_dataset.skip(TEST_BATCHES)"
   ]
  },
  {
   "cell_type": "markdown",
   "metadata": {},
   "source": [
    "# Creating the Model\n"
   ]
  },
  {
   "cell_type": "code",
   "execution_count": 24,
   "metadata": {},
   "outputs": [],
   "source": [
    "class TEXT_MODEL(tf.keras.Model):\n",
    "    \n",
    "    def __init__(self,\n",
    "                 vocabulary_size,\n",
    "                 embedding_dimensions=128,\n",
    "                 cnn_filters=50,\n",
    "                 dnn_units=512,\n",
    "                 model_output_classes=2,\n",
    "                 dropout_rate=0.1,\n",
    "                 training=False,\n",
    "                 name=\"text_model\"):\n",
    "        super(TEXT_MODEL, self).__init__(name=name)\n",
    "        \n",
    "        self.embedding = layers.Embedding(vocabulary_size,\n",
    "                                          embedding_dimensions)\n",
    "        self.cnn_layer1 = layers.Conv1D(filters=cnn_filters,\n",
    "                                        kernel_size=2,\n",
    "                                        padding=\"valid\",\n",
    "                                        activation=\"relu\")\n",
    "        self.cnn_layer2 = layers.Conv1D(filters=cnn_filters,\n",
    "                                        kernel_size=3,\n",
    "                                        padding=\"valid\",\n",
    "                                        activation=\"relu\")\n",
    "        self.cnn_layer3 = layers.Conv1D(filters=cnn_filters,\n",
    "                                        kernel_size=4,\n",
    "                                        padding=\"valid\",\n",
    "                                        activation=\"relu\")\n",
    "        self.pool = layers.GlobalMaxPool1D()\n",
    "        \n",
    "        self.dense_1 = layers.Dense(units=dnn_units, activation=\"relu\")\n",
    "        self.dropout = layers.Dropout(rate=dropout_rate)\n",
    "        if model_output_classes == 2:\n",
    "            self.last_dense = layers.Dense(units=1,\n",
    "                                           activation=\"sigmoid\")\n",
    "        else:\n",
    "            self.last_dense = layers.Dense(units=model_output_classes,\n",
    "                                           activation=\"softmax\")\n",
    "    \n",
    "    def call(self, inputs, training):\n",
    "        l = self.embedding(inputs)\n",
    "        l_1 = self.cnn_layer1(l) \n",
    "        l_1 = self.pool(l_1) \n",
    "        l_2 = self.cnn_layer2(l) \n",
    "        l_2 = self.pool(l_2)\n",
    "        l_3 = self.cnn_layer3(l)\n",
    "        l_3 = self.pool(l_3) \n",
    "        \n",
    "        concatenated = tf.concat([l_1, l_2, l_3], axis=-1) # (batch_size, 3 * cnn_filters)\n",
    "        concatenated = self.dense_1(concatenated)\n",
    "        concatenated = self.dropout(concatenated, training)\n",
    "        model_output = self.last_dense(concatenated)\n",
    "        \n",
    "        return model_output"
   ]
  },
  {
   "cell_type": "code",
   "execution_count": 31,
   "metadata": {},
   "outputs": [],
   "source": [
    "VOCAB_LENGTH = len(tokenizer.vocab)\n",
    "EMB_DIM = 200\n",
    "CNN_FILTERS = 100\n",
    "DNN_UNITS = 256\n",
    "OUTPUT_CLASSES = 2\n",
    "\n",
    "DROPOUT_RATE = 0.2\n",
    "\n",
    "NB_EPOCHS = 5"
   ]
  },
  {
   "cell_type": "code",
   "execution_count": 32,
   "metadata": {},
   "outputs": [
    {
     "data": {
      "text/plain": [
       "30522"
      ]
     },
     "execution_count": 32,
     "metadata": {},
     "output_type": "execute_result"
    }
   ],
   "source": [
    "VOCAB_LENGTH"
   ]
  },
  {
   "cell_type": "code",
   "execution_count": 26,
   "metadata": {},
   "outputs": [],
   "source": [
    "text_model = TEXT_MODEL(vocabulary_size=VOCAB_LENGTH,\n",
    "                        embedding_dimensions=EMB_DIM,\n",
    "                        cnn_filters=CNN_FILTERS,\n",
    "                        dnn_units=DNN_UNITS,\n",
    "                        model_output_classes=OUTPUT_CLASSES,\n",
    "                        dropout_rate=DROPOUT_RATE)"
   ]
  },
  {
   "cell_type": "code",
   "execution_count": 27,
   "metadata": {},
   "outputs": [],
   "source": [
    "if OUTPUT_CLASSES == 2:\n",
    "    text_model.compile(loss=\"binary_crossentropy\",\n",
    "                       optimizer=\"adam\",\n",
    "                       metrics=[\"accuracy\"])\n",
    "else:\n",
    "    text_model.compile(loss=\"sparse_categorical_crossentropy\",\n",
    "                       optimizer=\"adam\",\n",
    "                       metrics=[\"sparse_categorical_accuracy\"])"
   ]
  },
  {
   "cell_type": "code",
   "execution_count": null,
   "metadata": {},
   "outputs": [],
   "source": []
  },
  {
   "cell_type": "code",
   "execution_count": 28,
   "metadata": {
    "scrolled": false
   },
   "outputs": [
    {
     "name": "stdout",
     "output_type": "stream",
     "text": [
      "Epoch 1/5\n",
      "      3/Unknown - 1s 28ms/step - loss: 0.6851 - accuracy: 0.5833"
     ]
    },
    {
     "ename": "InvalidArgumentError",
     "evalue": " Input to reshape is a tensor with 582400 values, but the requested shape has 588800\n\t [[node gradient_tape/text_model/conv1d_1/conv1d/Reshape_1 (defined at <ipython-input-28-1896a0dd0e98>:1) ]] [Op:__inference_train_function_23747]\n\nErrors may have originated from an input operation.\nInput Source operations connected to node gradient_tape/text_model/conv1d_1/conv1d/Reshape_1:\n gradient_tape/text_model/conv1d_1/conv1d/MLCConv2DBackpropInput (defined at /Users/sean/miniforge3/envs/m1tf24/lib/python3.8/site-packages/tensorflow/compiler/tf2mlcompute/ops/gen_mlc_ops.py:1983)\n\nFunction call stack:\ntrain_function\n",
     "output_type": "error",
     "traceback": [
      "\u001b[0;31m---------------------------------------------------------------------------\u001b[0m",
      "\u001b[0;31mInvalidArgumentError\u001b[0m                      Traceback (most recent call last)",
      "\u001b[0;32m<ipython-input-28-1896a0dd0e98>\u001b[0m in \u001b[0;36m<module>\u001b[0;34m\u001b[0m\n\u001b[0;32m----> 1\u001b[0;31m \u001b[0mtext_model\u001b[0m\u001b[0;34m.\u001b[0m\u001b[0mfit\u001b[0m\u001b[0;34m(\u001b[0m\u001b[0mtrain_data\u001b[0m\u001b[0;34m,\u001b[0m \u001b[0mepochs\u001b[0m\u001b[0;34m=\u001b[0m\u001b[0mNB_EPOCHS\u001b[0m\u001b[0;34m)\u001b[0m\u001b[0;34m\u001b[0m\u001b[0;34m\u001b[0m\u001b[0m\n\u001b[0m",
      "\u001b[0;32m~/miniforge3/envs/m1tf24/lib/python3.8/site-packages/tensorflow/python/keras/engine/training.py\u001b[0m in \u001b[0;36mfit\u001b[0;34m(self, x, y, batch_size, epochs, verbose, callbacks, validation_split, validation_data, shuffle, class_weight, sample_weight, initial_epoch, steps_per_epoch, validation_steps, validation_batch_size, validation_freq, max_queue_size, workers, use_multiprocessing)\u001b[0m\n\u001b[1;32m   1098\u001b[0m                 _r=1):\n\u001b[1;32m   1099\u001b[0m               \u001b[0mcallbacks\u001b[0m\u001b[0;34m.\u001b[0m\u001b[0mon_train_batch_begin\u001b[0m\u001b[0;34m(\u001b[0m\u001b[0mstep\u001b[0m\u001b[0;34m)\u001b[0m\u001b[0;34m\u001b[0m\u001b[0;34m\u001b[0m\u001b[0m\n\u001b[0;32m-> 1100\u001b[0;31m               \u001b[0mtmp_logs\u001b[0m \u001b[0;34m=\u001b[0m \u001b[0mself\u001b[0m\u001b[0;34m.\u001b[0m\u001b[0mtrain_function\u001b[0m\u001b[0;34m(\u001b[0m\u001b[0miterator\u001b[0m\u001b[0;34m)\u001b[0m\u001b[0;34m\u001b[0m\u001b[0;34m\u001b[0m\u001b[0m\n\u001b[0m\u001b[1;32m   1101\u001b[0m               \u001b[0;32mif\u001b[0m \u001b[0mdata_handler\u001b[0m\u001b[0;34m.\u001b[0m\u001b[0mshould_sync\u001b[0m\u001b[0;34m:\u001b[0m\u001b[0;34m\u001b[0m\u001b[0;34m\u001b[0m\u001b[0m\n\u001b[1;32m   1102\u001b[0m                 \u001b[0mcontext\u001b[0m\u001b[0;34m.\u001b[0m\u001b[0masync_wait\u001b[0m\u001b[0;34m(\u001b[0m\u001b[0;34m)\u001b[0m\u001b[0;34m\u001b[0m\u001b[0;34m\u001b[0m\u001b[0m\n",
      "\u001b[0;32m~/miniforge3/envs/m1tf24/lib/python3.8/site-packages/tensorflow/python/eager/def_function.py\u001b[0m in \u001b[0;36m__call__\u001b[0;34m(self, *args, **kwds)\u001b[0m\n\u001b[1;32m    826\u001b[0m     \u001b[0mtracing_count\u001b[0m \u001b[0;34m=\u001b[0m \u001b[0mself\u001b[0m\u001b[0;34m.\u001b[0m\u001b[0mexperimental_get_tracing_count\u001b[0m\u001b[0;34m(\u001b[0m\u001b[0;34m)\u001b[0m\u001b[0;34m\u001b[0m\u001b[0;34m\u001b[0m\u001b[0m\n\u001b[1;32m    827\u001b[0m     \u001b[0;32mwith\u001b[0m \u001b[0mtrace\u001b[0m\u001b[0;34m.\u001b[0m\u001b[0mTrace\u001b[0m\u001b[0;34m(\u001b[0m\u001b[0mself\u001b[0m\u001b[0;34m.\u001b[0m\u001b[0m_name\u001b[0m\u001b[0;34m)\u001b[0m \u001b[0;32mas\u001b[0m \u001b[0mtm\u001b[0m\u001b[0;34m:\u001b[0m\u001b[0;34m\u001b[0m\u001b[0;34m\u001b[0m\u001b[0m\n\u001b[0;32m--> 828\u001b[0;31m       \u001b[0mresult\u001b[0m \u001b[0;34m=\u001b[0m \u001b[0mself\u001b[0m\u001b[0;34m.\u001b[0m\u001b[0m_call\u001b[0m\u001b[0;34m(\u001b[0m\u001b[0;34m*\u001b[0m\u001b[0margs\u001b[0m\u001b[0;34m,\u001b[0m \u001b[0;34m**\u001b[0m\u001b[0mkwds\u001b[0m\u001b[0;34m)\u001b[0m\u001b[0;34m\u001b[0m\u001b[0;34m\u001b[0m\u001b[0m\n\u001b[0m\u001b[1;32m    829\u001b[0m       \u001b[0mcompiler\u001b[0m \u001b[0;34m=\u001b[0m \u001b[0;34m\"xla\"\u001b[0m \u001b[0;32mif\u001b[0m \u001b[0mself\u001b[0m\u001b[0;34m.\u001b[0m\u001b[0m_experimental_compile\u001b[0m \u001b[0;32melse\u001b[0m \u001b[0;34m\"nonXla\"\u001b[0m\u001b[0;34m\u001b[0m\u001b[0;34m\u001b[0m\u001b[0m\n\u001b[1;32m    830\u001b[0m       \u001b[0mnew_tracing_count\u001b[0m \u001b[0;34m=\u001b[0m \u001b[0mself\u001b[0m\u001b[0;34m.\u001b[0m\u001b[0mexperimental_get_tracing_count\u001b[0m\u001b[0;34m(\u001b[0m\u001b[0;34m)\u001b[0m\u001b[0;34m\u001b[0m\u001b[0;34m\u001b[0m\u001b[0m\n",
      "\u001b[0;32m~/miniforge3/envs/m1tf24/lib/python3.8/site-packages/tensorflow/python/eager/def_function.py\u001b[0m in \u001b[0;36m_call\u001b[0;34m(self, *args, **kwds)\u001b[0m\n\u001b[1;32m    853\u001b[0m       \u001b[0;31m# In this case we have created variables on the first call, so we run the\u001b[0m\u001b[0;34m\u001b[0m\u001b[0;34m\u001b[0m\u001b[0;34m\u001b[0m\u001b[0m\n\u001b[1;32m    854\u001b[0m       \u001b[0;31m# defunned version which is guaranteed to never create variables.\u001b[0m\u001b[0;34m\u001b[0m\u001b[0;34m\u001b[0m\u001b[0;34m\u001b[0m\u001b[0m\n\u001b[0;32m--> 855\u001b[0;31m       \u001b[0;32mreturn\u001b[0m \u001b[0mself\u001b[0m\u001b[0;34m.\u001b[0m\u001b[0m_stateless_fn\u001b[0m\u001b[0;34m(\u001b[0m\u001b[0;34m*\u001b[0m\u001b[0margs\u001b[0m\u001b[0;34m,\u001b[0m \u001b[0;34m**\u001b[0m\u001b[0mkwds\u001b[0m\u001b[0;34m)\u001b[0m  \u001b[0;31m# pylint: disable=not-callable\u001b[0m\u001b[0;34m\u001b[0m\u001b[0;34m\u001b[0m\u001b[0m\n\u001b[0m\u001b[1;32m    856\u001b[0m     \u001b[0;32melif\u001b[0m \u001b[0mself\u001b[0m\u001b[0;34m.\u001b[0m\u001b[0m_stateful_fn\u001b[0m \u001b[0;32mis\u001b[0m \u001b[0;32mnot\u001b[0m \u001b[0;32mNone\u001b[0m\u001b[0;34m:\u001b[0m\u001b[0;34m\u001b[0m\u001b[0;34m\u001b[0m\u001b[0m\n\u001b[1;32m    857\u001b[0m       \u001b[0;31m# Release the lock early so that multiple threads can perform the call\u001b[0m\u001b[0;34m\u001b[0m\u001b[0;34m\u001b[0m\u001b[0;34m\u001b[0m\u001b[0m\n",
      "\u001b[0;32m~/miniforge3/envs/m1tf24/lib/python3.8/site-packages/tensorflow/python/eager/function.py\u001b[0m in \u001b[0;36m__call__\u001b[0;34m(self, *args, **kwargs)\u001b[0m\n\u001b[1;32m   2940\u001b[0m       (graph_function,\n\u001b[1;32m   2941\u001b[0m        filtered_flat_args) = self._maybe_define_function(args, kwargs)\n\u001b[0;32m-> 2942\u001b[0;31m     return graph_function._call_flat(\n\u001b[0m\u001b[1;32m   2943\u001b[0m         filtered_flat_args, captured_inputs=graph_function.captured_inputs)  # pylint: disable=protected-access\n\u001b[1;32m   2944\u001b[0m \u001b[0;34m\u001b[0m\u001b[0m\n",
      "\u001b[0;32m~/miniforge3/envs/m1tf24/lib/python3.8/site-packages/tensorflow/python/eager/function.py\u001b[0m in \u001b[0;36m_call_flat\u001b[0;34m(self, args, captured_inputs, cancellation_manager)\u001b[0m\n\u001b[1;32m   1916\u001b[0m         and executing_eagerly):\n\u001b[1;32m   1917\u001b[0m       \u001b[0;31m# No tape is watching; skip to running the function.\u001b[0m\u001b[0;34m\u001b[0m\u001b[0;34m\u001b[0m\u001b[0;34m\u001b[0m\u001b[0m\n\u001b[0;32m-> 1918\u001b[0;31m       return self._build_call_outputs(self._inference_function.call(\n\u001b[0m\u001b[1;32m   1919\u001b[0m           ctx, args, cancellation_manager=cancellation_manager))\n\u001b[1;32m   1920\u001b[0m     forward_backward = self._select_forward_and_backward_functions(\n",
      "\u001b[0;32m~/miniforge3/envs/m1tf24/lib/python3.8/site-packages/tensorflow/python/eager/function.py\u001b[0m in \u001b[0;36mcall\u001b[0;34m(self, ctx, args, cancellation_manager)\u001b[0m\n\u001b[1;32m    553\u001b[0m       \u001b[0;32mwith\u001b[0m \u001b[0m_InterpolateFunctionError\u001b[0m\u001b[0;34m(\u001b[0m\u001b[0mself\u001b[0m\u001b[0;34m)\u001b[0m\u001b[0;34m:\u001b[0m\u001b[0;34m\u001b[0m\u001b[0;34m\u001b[0m\u001b[0m\n\u001b[1;32m    554\u001b[0m         \u001b[0;32mif\u001b[0m \u001b[0mcancellation_manager\u001b[0m \u001b[0;32mis\u001b[0m \u001b[0;32mNone\u001b[0m\u001b[0;34m:\u001b[0m\u001b[0;34m\u001b[0m\u001b[0;34m\u001b[0m\u001b[0m\n\u001b[0;32m--> 555\u001b[0;31m           outputs = execute.execute(\n\u001b[0m\u001b[1;32m    556\u001b[0m               \u001b[0mstr\u001b[0m\u001b[0;34m(\u001b[0m\u001b[0mself\u001b[0m\u001b[0;34m.\u001b[0m\u001b[0msignature\u001b[0m\u001b[0;34m.\u001b[0m\u001b[0mname\u001b[0m\u001b[0;34m)\u001b[0m\u001b[0;34m,\u001b[0m\u001b[0;34m\u001b[0m\u001b[0;34m\u001b[0m\u001b[0m\n\u001b[1;32m    557\u001b[0m               \u001b[0mnum_outputs\u001b[0m\u001b[0;34m=\u001b[0m\u001b[0mself\u001b[0m\u001b[0;34m.\u001b[0m\u001b[0m_num_outputs\u001b[0m\u001b[0;34m,\u001b[0m\u001b[0;34m\u001b[0m\u001b[0;34m\u001b[0m\u001b[0m\n",
      "\u001b[0;32m~/miniforge3/envs/m1tf24/lib/python3.8/site-packages/tensorflow/python/eager/execute.py\u001b[0m in \u001b[0;36mquick_execute\u001b[0;34m(op_name, num_outputs, inputs, attrs, ctx, name)\u001b[0m\n\u001b[1;32m     57\u001b[0m   \u001b[0;32mtry\u001b[0m\u001b[0;34m:\u001b[0m\u001b[0;34m\u001b[0m\u001b[0;34m\u001b[0m\u001b[0m\n\u001b[1;32m     58\u001b[0m     \u001b[0mctx\u001b[0m\u001b[0;34m.\u001b[0m\u001b[0mensure_initialized\u001b[0m\u001b[0;34m(\u001b[0m\u001b[0;34m)\u001b[0m\u001b[0;34m\u001b[0m\u001b[0;34m\u001b[0m\u001b[0m\n\u001b[0;32m---> 59\u001b[0;31m     tensors = pywrap_tfe.TFE_Py_Execute(ctx._handle, device_name, op_name,\n\u001b[0m\u001b[1;32m     60\u001b[0m                                         inputs, attrs, num_outputs)\n\u001b[1;32m     61\u001b[0m   \u001b[0;32mexcept\u001b[0m \u001b[0mcore\u001b[0m\u001b[0;34m.\u001b[0m\u001b[0m_NotOkStatusException\u001b[0m \u001b[0;32mas\u001b[0m \u001b[0me\u001b[0m\u001b[0;34m:\u001b[0m\u001b[0;34m\u001b[0m\u001b[0;34m\u001b[0m\u001b[0m\n",
      "\u001b[0;31mInvalidArgumentError\u001b[0m:  Input to reshape is a tensor with 582400 values, but the requested shape has 588800\n\t [[node gradient_tape/text_model/conv1d_1/conv1d/Reshape_1 (defined at <ipython-input-28-1896a0dd0e98>:1) ]] [Op:__inference_train_function_23747]\n\nErrors may have originated from an input operation.\nInput Source operations connected to node gradient_tape/text_model/conv1d_1/conv1d/Reshape_1:\n gradient_tape/text_model/conv1d_1/conv1d/MLCConv2DBackpropInput (defined at /Users/sean/miniforge3/envs/m1tf24/lib/python3.8/site-packages/tensorflow/compiler/tf2mlcompute/ops/gen_mlc_ops.py:1983)\n\nFunction call stack:\ntrain_function\n"
     ]
    }
   ],
   "source": [
    "text_model.fit(train_data, epochs=NB_EPOCHS)"
   ]
  },
  {
   "cell_type": "code",
   "execution_count": null,
   "metadata": {},
   "outputs": [],
   "source": []
  }
 ],
 "metadata": {
  "kernelspec": {
   "display_name": "Python 3",
   "language": "python",
   "name": "python3"
  },
  "language_info": {
   "codemirror_mode": {
    "name": "ipython",
    "version": 3
   },
   "file_extension": ".py",
   "mimetype": "text/x-python",
   "name": "python",
   "nbconvert_exporter": "python",
   "pygments_lexer": "ipython3",
   "version": "3.8.6"
  }
 },
 "nbformat": 4,
 "nbformat_minor": 4
}
