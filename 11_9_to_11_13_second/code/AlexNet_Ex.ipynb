{
 "cells": [
  {
   "cell_type": "markdown",
   "metadata": {},
   "source": [
    "# AlexNet Demo , Determine Cat and Dog."
   ]
  },
  {
   "cell_type": "code",
   "execution_count": 6,
   "metadata": {},
   "outputs": [],
   "source": [
    "import sys\n",
    "sys.path.append('.')\n",
    "# https://blog.csdn.net/weixin_44048809/article/details/105711356\n",
    "from keras.callbacks import TensorBoard, ModelCheckpoint, ReduceLROnPlateau, EarlyStopping\n",
    "from keras.utils import np_utils\n",
    "from keras.optimizers import Adam\n",
    "from model.AlexNet import AlexNet\n",
    "import numpy as np\n",
    "import utils\n",
    "import cv2\n",
    "from keras import backend as K\n",
    "K.image_data_format() == 'channel_first'\n",
    "import os \n",
    "IMG_PATH = os.path.join('.','data','image','train')\n"
   ]
  },
  {
   "cell_type": "code",
   "execution_count": 7,
   "metadata": {},
   "outputs": [],
   "source": [
    "\n",
    "def generate_arrays_from_file(lines,batch_size):\n",
    "    # read length\n",
    "    n = len(lines)\n",
    "    i = 0\n",
    "    while 1:\n",
    "        X_train = []\n",
    "        Y_train = []\n",
    "        # get data @ batch_size\n",
    "        for b in range(batch_size):\n",
    "            if i == 0:\n",
    "                np.random.shuffle(lines)\n",
    "            name = line[i].split(';')[0]\n",
    "            # read image from file\n",
    "            img = cv2.imread(os.path.join(IMG_PATH,name))\n",
    "            img = cv2.cvtColor(img,cv2.COLOR_BGR2RGB)\n",
    "            img = img / 255\n",
    "            X_train.append(img)\n",
    "            Y_train.append(line[i].split(';')[1])\n",
    "            # restart a new period to read\n",
    "            i = (i+1)%n\n",
    "        #process image\n",
    "        X_train = utils.resize_image(X_train,(224,224))\n",
    "        X_train = X_train.reshape(-1,224,224,3)\n",
    "        Y_train = np_uitls.to_categorical(np.array(Y_train),num_classics = 2)\n",
    "        \n",
    "            "
   ]
  },
  {
   "cell_type": "code",
   "execution_count": 12,
   "metadata": {},
   "outputs": [
    {
     "ename": "SyntaxError",
     "evalue": "invalid syntax (<ipython-input-12-7e2d0e032ef8>, line 27)",
     "output_type": "error",
     "traceback": [
      "\u001b[1;36m  File \u001b[1;32m\"<ipython-input-12-7e2d0e032ef8>\"\u001b[1;36m, line \u001b[1;32m27\u001b[0m\n\u001b[1;33m    reduce_lr=ReduceLROnPlateau(monitor='acc',\u001b[0m\n\u001b[1;37m            ^\u001b[0m\n\u001b[1;31mSyntaxError\u001b[0m\u001b[1;31m:\u001b[0m invalid syntax\n"
     ]
    }
   ],
   "source": [
    "log_dir = os.path.join('.','logs')\n",
    "with open(os.path.join('.','data','dataset.txt','r')) as f:\n",
    "    lines = f.readlines()\n",
    "\n",
    "# random to help train\n",
    "np.random.seed(10101)\n",
    "np.random.shuffle(lines)\n",
    "np.random.seed(None)\n",
    "\n",
    "# 90% train , 10& evaluate\n",
    "num_val = int(len(lines)*0.1)\n",
    "num_train = len(lines) - num_val\n",
    "\n",
    "#model declare\n",
    "model = AlexNet()\n",
    "\n",
    "#save method , 3 epoch 1 time\n",
    "checkpoint_preroid1 = ModelCheckpoint(\n",
    "    os.path.join(log_dir,'ep{epoch:03d}-loss{loss:.3f}-val_loss{val_loss:.3f}.h5',\n",
    "    monitor = 'acc',\n",
    "    save_weights_only=False,\n",
    "    save_best_only = True,\n",
    "    period = 3\n",
    ")\n",
    "\n",
    "#  leraning rate reduce method, when acc not reduce three times, reduce the LR to continue train\n",
    "reduce_lr=ReduceLROnPlateau(monitor='acc',\n",
    "                            factor=0.5,\n",
    "                            patience=3,\n",
    "                            verbose=1)\n",
    "    \n",
    "# when var_loss not reduce , can early stopping\n",
    "early_stoppong = EarlyStopping(monitor='var_loss',\n",
    "                              min_delta = 0,\n",
    "                              patience = 10,\n",
    "                              verbose = 1)\n",
    "\n",
    "model.compile(loss = 'categorical_crossentropy',\n",
    "             optimizer=Adam(lr=1e-3),\n",
    "             metrics=['accuracy'])\n",
    "\n",
    "batch_size = 128\n",
    "print('Train on {} samples, val on {} samples, with batch size {}.'.format(num_train, num_val, batch_size))\n",
    "\n",
    "model.fit_generator(gererate_arrays_from_file(lines[:num_train],batch_size),\n",
    "                   steps_per_epoch=max(1,num_trai//batch_size),\n",
    "                   validation_data = generate_arrays_from_file(ines[num_train:],batch_size),\n",
    "                   epoch=50,\n",
    "                   initial_epoch=0,\n",
    "                   callbacks=[checkpoint_period1,reduce_lr]\n",
    "                   )\n",
    "model.save_weights(os.path.join(log_dir,'last2.h5'))\n",
    "    \n",
    "    "
   ]
  },
  {
   "cell_type": "code",
   "execution_count": null,
   "metadata": {},
   "outputs": [],
   "source": []
  }
 ],
 "metadata": {
  "kernelspec": {
   "display_name": "Python 3",
   "language": "python",
   "name": "python3"
  },
  "language_info": {
   "codemirror_mode": {
    "name": "ipython",
    "version": 3
   },
   "file_extension": ".py",
   "mimetype": "text/x-python",
   "name": "python",
   "nbconvert_exporter": "python",
   "pygments_lexer": "ipython3",
   "version": "3.7.9"
  },
  "varInspector": {
   "cols": {
    "lenName": 16,
    "lenType": 16,
    "lenVar": 40
   },
   "kernels_config": {
    "python": {
     "delete_cmd_postfix": "",
     "delete_cmd_prefix": "del ",
     "library": "var_list.py",
     "varRefreshCmd": "print(var_dic_list())"
    },
    "r": {
     "delete_cmd_postfix": ") ",
     "delete_cmd_prefix": "rm(",
     "library": "var_list.r",
     "varRefreshCmd": "cat(var_dic_list()) "
    }
   },
   "types_to_exclude": [
    "module",
    "function",
    "builtin_function_or_method",
    "instance",
    "_Feature"
   ],
   "window_display": false
  }
 },
 "nbformat": 4,
 "nbformat_minor": 4
}
