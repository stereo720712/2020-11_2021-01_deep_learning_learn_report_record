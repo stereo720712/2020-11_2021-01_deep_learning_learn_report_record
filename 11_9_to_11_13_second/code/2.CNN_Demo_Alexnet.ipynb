{
 "cells": [
  {
   "cell_type": "code",
   "execution_count": 1,
   "metadata": {},
   "outputs": [],
   "source": [
    "import sys\n",
    "sys.path.append('./')\n",
    "import numpy as np\n",
    "import tensorflow as tf\n",
    "\n"
   ]
  },
  {
   "cell_type": "code",
   "execution_count": 2,
   "metadata": {},
   "outputs": [],
   "source": [
    "net = tf.keras.Sequential()"
   ]
  },
  {
   "cell_type": "code",
   "execution_count": 3,
   "metadata": {},
   "outputs": [],
   "source": [
    "net.add(tf.keras.layers.Conv2D(filters=48,kernel_size=11,strides=4,activation='relu'))\n",
    "net.add(tf.keras.layers.MaxPool2D(pool_size=3, strides=2))\n",
    "net.add(tf.keras.layers.Conv2D(filters=128,kernel_size=5,padding='same',activation='relu'))\n",
    "net.add(tf.keras.layers.MaxPool2D(pool_size=3,strides=2))\n",
    "net.add(tf.keras.layers.Conv2D(filters=192,kernel_size=3,padding='same',activation='relu'))\n",
    "net.add(tf.keras.layers.Conv2D(filters=192,kernel_size=3,padding='same',activation='relu'))\n",
    "net.add(tf.keras.layers.Conv2D(filters=256,kernel_size=3,padding='same',activation='relu'))\n",
    "net.add(tf.keras.layers.MaxPool2D(pool_size=3, strides=2))\n",
    "net.add(tf.keras.layers.Flatten())\n",
    "net.add(tf.keras.layers.Dense(4096,activation='relu'))\n",
    "net.add(tf.keras.layers.Dropout(0.5))\n",
    "net.add(tf.keras.layers.Dense(4096,activation='relu'))\n",
    "net.add(tf.keras.layers.Dropout(0.5))\n",
    "net.add(tf.keras.layers.Dense(10,activation='sigmoid'))\n"
   ]
  },
  {
   "cell_type": "code",
   "execution_count": 4,
   "metadata": {},
   "outputs": [
    {
     "name": "stdout",
     "output_type": "stream",
     "text": [
      "conv2d output_shape\t (1, 54, 54, 48)\n",
      "max_pooling2d output_shape\t (1, 26, 26, 48)\n",
      "conv2d_1 output_shape\t (1, 26, 26, 128)\n",
      "max_pooling2d_1 output_shape\t (1, 12, 12, 128)\n",
      "conv2d_2 output_shape\t (1, 12, 12, 192)\n",
      "conv2d_3 output_shape\t (1, 12, 12, 192)\n",
      "conv2d_4 output_shape\t (1, 12, 12, 256)\n",
      "max_pooling2d_2 output_shape\t (1, 5, 5, 256)\n",
      "flatten output_shape\t (1, 6400)\n",
      "dense output_shape\t (1, 4096)\n",
      "dropout output_shape\t (1, 4096)\n",
      "dense_1 output_shape\t (1, 4096)\n",
      "dropout_1 output_shape\t (1, 4096)\n",
      "dense_2 output_shape\t (1, 10)\n"
     ]
    }
   ],
   "source": [
    "# test\n",
    "X = tf.random.uniform((1,224,224,1))\n",
    "for layer in net.layers:\n",
    "    X = layer(X)\n",
    "    print(layer.name, 'output_shape\\t', X.shape)\n",
    "    "
   ]
  },
  {
   "cell_type": "code",
   "execution_count": null,
   "metadata": {},
   "outputs": [],
   "source": []
  }
 ],
 "metadata": {
  "kernelspec": {
   "display_name": "Python 3",
   "language": "python",
   "name": "python3"
  },
  "language_info": {
   "codemirror_mode": {
    "name": "ipython",
    "version": 3
   },
   "file_extension": ".py",
   "mimetype": "text/x-python",
   "name": "python",
   "nbconvert_exporter": "python",
   "pygments_lexer": "ipython3",
   "version": "3.7.9"
  },
  "varInspector": {
   "cols": {
    "lenName": 16,
    "lenType": 16,
    "lenVar": 40
   },
   "kernels_config": {
    "python": {
     "delete_cmd_postfix": "",
     "delete_cmd_prefix": "del ",
     "library": "var_list.py",
     "varRefreshCmd": "print(var_dic_list())"
    },
    "r": {
     "delete_cmd_postfix": ") ",
     "delete_cmd_prefix": "rm(",
     "library": "var_list.r",
     "varRefreshCmd": "cat(var_dic_list()) "
    }
   },
   "types_to_exclude": [
    "module",
    "function",
    "builtin_function_or_method",
    "instance",
    "_Feature"
   ],
   "window_display": false
  }
 },
 "nbformat": 4,
 "nbformat_minor": 4
}
